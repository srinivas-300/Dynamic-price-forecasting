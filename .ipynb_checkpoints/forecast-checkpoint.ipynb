{
 "cells": [
  {
   "cell_type": "code",
   "execution_count": 1,
   "id": "ba9c32f1-4533-4c82-b018-c3f548657ae1",
   "metadata": {},
   "outputs": [
    {
     "name": "stdout",
     "output_type": "stream",
     "text": [
      "Collecting prophet\n",
      "  Downloading prophet-1.1.6-py3-none-manylinux_2_17_x86_64.manylinux2014_x86_64.whl (14.4 MB)\n",
      "\u001b[2K     \u001b[90m━━━━━━━━━━━━━━━━━━━━━━━━━━━━━━━━━━━━━━━━\u001b[0m \u001b[32m14.4/14.4 MB\u001b[0m \u001b[31m79.1 MB/s\u001b[0m eta \u001b[36m0:00:00\u001b[0m00:01\u001b[0m00:01\u001b[0m\n",
      "\u001b[?25hCollecting cmdstanpy>=1.0.4\n",
      "  Downloading cmdstanpy-1.2.5-py3-none-any.whl (94 kB)\n",
      "\u001b[2K     \u001b[90m━━━━━━━━━━━━━━━━━━━━━━━━━━━━━━━━━━━━━━━━\u001b[0m \u001b[32m94.5/94.5 kB\u001b[0m \u001b[31m14.0 MB/s\u001b[0m eta \u001b[36m0:00:00\u001b[0m\n",
      "\u001b[?25hRequirement already satisfied: numpy>=1.15.4 in /opt/conda/lib/python3.10/site-packages (from prophet) (1.23.5)\n",
      "Requirement already satisfied: matplotlib>=2.0.0 in /opt/conda/lib/python3.10/site-packages (from prophet) (3.6.2)\n",
      "Requirement already satisfied: tqdm>=4.36.1 in /opt/conda/lib/python3.10/site-packages (from prophet) (4.64.1)\n",
      "Requirement already satisfied: pandas>=1.0.4 in /opt/conda/lib/python3.10/site-packages (from prophet) (1.5.2)\n",
      "Requirement already satisfied: importlib-resources in /opt/conda/lib/python3.10/site-packages (from prophet) (5.10.1)\n",
      "Collecting holidays<1,>=0.25\n",
      "  Downloading holidays-0.65-py3-none-any.whl (1.2 MB)\n",
      "\u001b[2K     \u001b[90m━━━━━━━━━━━━━━━━━━━━━━━━━━━━━━━━━━━━━━━━\u001b[0m \u001b[32m1.2/1.2 MB\u001b[0m \u001b[31m66.5 MB/s\u001b[0m eta \u001b[36m0:00:00\u001b[0m\n",
      "\u001b[?25hCollecting stanio<2.0.0,>=0.4.0\n",
      "  Downloading stanio-0.5.1-py3-none-any.whl (8.1 kB)\n",
      "Requirement already satisfied: python-dateutil in /opt/conda/lib/python3.10/site-packages (from holidays<1,>=0.25->prophet) (2.8.2)\n",
      "Requirement already satisfied: pyparsing>=2.2.1 in /opt/conda/lib/python3.10/site-packages (from matplotlib>=2.0.0->prophet) (3.0.9)\n",
      "Requirement already satisfied: cycler>=0.10 in /opt/conda/lib/python3.10/site-packages (from matplotlib>=2.0.0->prophet) (0.11.0)\n",
      "Requirement already satisfied: pillow>=6.2.0 in /opt/conda/lib/python3.10/site-packages (from matplotlib>=2.0.0->prophet) (9.2.0)\n",
      "Requirement already satisfied: packaging>=20.0 in /opt/conda/lib/python3.10/site-packages (from matplotlib>=2.0.0->prophet) (22.0)\n",
      "Requirement already satisfied: kiwisolver>=1.0.1 in /opt/conda/lib/python3.10/site-packages (from matplotlib>=2.0.0->prophet) (1.4.4)\n",
      "Requirement already satisfied: contourpy>=1.0.1 in /opt/conda/lib/python3.10/site-packages (from matplotlib>=2.0.0->prophet) (1.0.6)\n",
      "Requirement already satisfied: fonttools>=4.22.0 in /opt/conda/lib/python3.10/site-packages (from matplotlib>=2.0.0->prophet) (4.38.0)\n",
      "Requirement already satisfied: pytz>=2020.1 in /opt/conda/lib/python3.10/site-packages (from pandas>=1.0.4->prophet) (2022.7)\n",
      "Requirement already satisfied: six>=1.5 in /opt/conda/lib/python3.10/site-packages (from python-dateutil->holidays<1,>=0.25->prophet) (1.16.0)\n",
      "Installing collected packages: stanio, holidays, cmdstanpy, prophet\n",
      "Successfully installed cmdstanpy-1.2.5 holidays-0.65 prophet-1.1.6 stanio-0.5.1\n"
     ]
    }
   ],
   "source": [
    "#!pip install prophet "
   ]
  },
  {
   "cell_type": "code",
   "execution_count": 2,
   "id": "88a8caf2-4006-4feb-a726-ef6ad7883b50",
   "metadata": {},
   "outputs": [
    {
     "name": "stderr",
     "output_type": "stream",
     "text": [
      "Importing plotly failed. Interactive plots will not work.\n"
     ]
    }
   ],
   "source": [
    "from pyspark.sql.functions import col \n",
    "from prophet import Prophet \n",
    "import pandas as pd\n",
    "import numpy as np"
   ]
  },
  {
   "cell_type": "code",
   "execution_count": 3,
   "id": "9b442416-14ef-4777-bf39-98f8fc8c0154",
   "metadata": {},
   "outputs": [],
   "source": [
    "#load the data from azure data lake"
   ]
  },
  {
   "cell_type": "code",
   "execution_count": null,
   "id": "21556a51-0aed-47d2-980a-fde1a99d0841",
   "metadata": {},
   "outputs": [],
   "source": [
    "df = spark.read.parquet(\"*********\")"
   ]
  },
  {
   "cell_type": "code",
   "execution_count": null,
   "id": "19718db0-8c75-49f7-8e90-d0567f07af41",
   "metadata": {},
   "outputs": [],
   "source": [
    "df2 = df.toPandas()"
   ]
  },
  {
   "cell_type": "code",
   "execution_count": null,
   "id": "918a2a1b-87d5-4507-bd58-09dc72e4544f",
   "metadata": {},
   "outputs": [],
   "source": [
    "df2[\"timestamp\"] = pd.to_datetime(df2[\"timestamp\"],unit=\"s\")"
   ]
  },
  {
   "cell_type": "code",
   "execution_count": null,
   "id": "a433656f-b239-4123-9749-26fb19795661",
   "metadata": {},
   "outputs": [],
   "source": [
    "df2.rename(columns={\"timestamp\":\"ds\",\"quantity_sold\":\"y\"})"
   ]
  },
  {
   "cell_type": "code",
   "execution_count": null,
   "id": "beb7630f-9fac-450d-b7b1-632fab2c0774",
   "metadata": {},
   "outputs": [],
   "source": [
    "model = Prophet()\n",
    "model.fit(df2)"
   ]
  },
  {
   "cell_type": "code",
   "execution_count": null,
   "id": "7db6e9f7-e434-400b-b068-3ea0ff2695e1",
   "metadata": {},
   "outputs": [],
   "source": [
    "future = model.make_future_dataframe(periods=30)\n",
    "forecast = model.predict(future)"
   ]
  },
  {
   "cell_type": "code",
   "execution_count": null,
   "id": "36390b15-3b5b-4e10-a844-868f35c7bdc6",
   "metadata": {},
   "outputs": [],
   "source": [
    "# Save to Azure Data Lake"
   ]
  },
  {
   "cell_type": "code",
   "execution_count": null,
   "id": "68a8376f-4faa-444a-99d1-b06e31fec849",
   "metadata": {},
   "outputs": [],
   "source": [
    "forecast.to_parquet(\"\"*********\")"
   ]
  },
  {
   "cell_type": "code",
   "execution_count": null,
   "id": "c6e3f024-4c93-43ac-9da7-c0f741e32f28",
   "metadata": {},
   "outputs": [],
   "source": []
  }
 ],
 "metadata": {
  "kernelspec": {
   "display_name": "Python 3 (ipykernel)",
   "language": "python",
   "name": "python3"
  },
  "language_info": {
   "codemirror_mode": {
    "name": "ipython",
    "version": 3
   },
   "file_extension": ".py",
   "mimetype": "text/x-python",
   "name": "python",
   "nbconvert_exporter": "python",
   "pygments_lexer": "ipython3",
   "version": "3.10.8"
  }
 },
 "nbformat": 4,
 "nbformat_minor": 5
}
